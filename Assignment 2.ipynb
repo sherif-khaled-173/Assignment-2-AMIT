{
 "cells": [
  {
   "cell_type": "markdown",
   "metadata": {
    "collapsed": true,
    "pycharm": {
     "name": "#%% md\n"
    }
   },
   "source": [
    "# Assignment 2\n",
    "Let's test your knowledge!"
   ]
  },
  {
   "cell_type": "markdown",
   "metadata": {
    "pycharm": {
     "name": "#%% md\n"
    }
   },
   "source": [
    "_____\n",
    "**Use <code>for</code>, .split(), and <code>if</code> to create a Statement that will print out words that start with 's':**"
   ]
  },
  {
   "cell_type": "code",
   "execution_count": null,
   "metadata": {
    "pycharm": {
     "name": "#%%\n"
    }
   },
   "outputs": [],
   "source": []
  },
  {
   "cell_type": "code",
   "execution_count": 4,
   "metadata": {
    "pycharm": {
     "name": "#%%\n"
    }
   },
   "outputs": [
    {
     "name": "stdout",
     "output_type": "stream",
     "text": [
      "start\n",
      "sentence\n"
     ]
    }
   ],
   "source": [
    "st = 'Print only the words that start with s in this sentence'\n",
    "st_1=st.split()\n",
    "for i in st_1:\n",
    "    if i[0]== \"s\":\n",
    "     if len(i)>=2:\n",
    "        print(i)"
   ]
  },
  {
   "cell_type": "markdown",
   "metadata": {
    "pycharm": {
     "name": "#%% md\n"
    }
   },
   "source": [
    "  ______\n",
    "**Use range() to print all the even numbers from 0 to 10.**"
   ]
  },
  {
   "cell_type": "code",
   "execution_count": 5,
   "metadata": {
    "pycharm": {
     "name": "#%%\n"
    }
   },
   "outputs": [
    {
     "name": "stdout",
     "output_type": "stream",
     "text": [
      "0\n",
      "2\n",
      "4\n",
      "6\n",
      "8\n"
     ]
    }
   ],
   "source": [
    "for k in range(0,10):\n",
    "    if k % 2 == 0:\n",
    "        print(k)"
   ]
  },
  {
   "cell_type": "markdown",
   "metadata": {
    "pycharm": {
     "name": "#%% md\n"
    }
   },
   "source": [
    "___\n",
    "**Use a List Comprehension to create a list of all numbers between 1 and 50 that are divisible by 3.**"
   ]
  },
  {
   "cell_type": "code",
   "execution_count": 6,
   "metadata": {
    "pycharm": {
     "name": "#%%\n"
    }
   },
   "outputs": [
    {
     "name": "stdout",
     "output_type": "stream",
     "text": [
      "[0, 2, 4, 6, 8, 10, 12, 14, 16, 18, 20, 22, 24, 26, 28, 30, 32, 34, 36, 38, 40, 42, 44, 46, 48]\n"
     ]
    }
   ],
   "source": [
    "mylist=[i for i in range (0,50) if i %2==0]\n",
    "print(mylist)"
   ]
  },
  {
   "cell_type": "markdown",
   "metadata": {
    "pycharm": {
     "name": "#%% md\n"
    }
   },
   "source": [
    "_____\n",
    "**Go through the string below and if the length of a word is even print \"even!\"**"
   ]
  },
  {
   "cell_type": "code",
   "execution_count": null,
   "metadata": {
    "pycharm": {
     "name": "#%%\n"
    }
   },
   "outputs": [],
   "source": [
    "st = 'Print every word in this sentence that has an even number of letters'"
   ]
  },
  {
   "cell_type": "code",
   "execution_count": 7,
   "metadata": {
    "pycharm": {
     "name": "#%%\n"
    }
   },
   "outputs": [
    {
     "name": "stdout",
     "output_type": "stream",
     "text": [
      "Print >>> is odd\n",
      "only >>> is even\n",
      "the >>> is odd\n",
      "words >>> is odd\n",
      "that >>> is even\n",
      "start >>> is odd\n",
      "with >>> is even\n",
      "s >>> is odd\n",
      "in >>> is even\n",
      "this >>> is even\n",
      "sentence >>> is even\n"
     ]
    }
   ],
   "source": [
    "st_1=st.split()\n",
    "for i in st_1:\n",
    "    if len(i)%2==0:\n",
    "        print(i,\"is even\",sep=\" >>> \")\n",
    "    else:\n",
    "        print(i,\"is odd\",sep=\" >>> \")"
   ]
  },
  {
   "cell_type": "markdown",
   "metadata": {
    "pycharm": {
     "name": "#%% md\n"
    }
   },
   "source": [
    "____\n",
    "**Write a program that prints the integers from 1 to 100. But for multiples of three print \"Fizz\" instead of the number, and for the multiples of five print \"Buzz\". For numbers which are multiples of both three and five print \"FizzBuzz\".**"
   ]
  },
  {
   "cell_type": "code",
   "execution_count": 9,
   "metadata": {
    "pycharm": {
     "name": "#%%\n"
    }
   },
   "outputs": [
    {
     "name": "stdout",
     "output_type": "stream",
     "text": [
      "0 >>> FizzBuzz\n",
      "1\n",
      "2\n",
      "3 >>> Fizz\n",
      "4\n",
      "5 >>> Buzz\n",
      "6 >>> Fizz\n",
      "7\n",
      "8\n",
      "9 >>> Fizz\n",
      "10 >>> Buzz\n",
      "11\n",
      "12 >>> Fizz\n",
      "13\n",
      "14\n",
      "15 >>> FizzBuzz\n",
      "16\n",
      "17\n",
      "18 >>> Fizz\n",
      "19\n",
      "20 >>> Buzz\n",
      "21 >>> Fizz\n",
      "22\n",
      "23\n",
      "24 >>> Fizz\n",
      "25 >>> Buzz\n",
      "26\n",
      "27 >>> Fizz\n",
      "28\n",
      "29\n",
      "30 >>> FizzBuzz\n",
      "31\n",
      "32\n",
      "33 >>> Fizz\n",
      "34\n",
      "35 >>> Buzz\n",
      "36 >>> Fizz\n",
      "37\n",
      "38\n",
      "39 >>> Fizz\n",
      "40 >>> Buzz\n",
      "41\n",
      "42 >>> Fizz\n",
      "43\n",
      "44\n",
      "45 >>> FizzBuzz\n",
      "46\n",
      "47\n",
      "48 >>> Fizz\n",
      "49\n",
      "50 >>> Buzz\n",
      "51 >>> Fizz\n",
      "52\n",
      "53\n",
      "54 >>> Fizz\n",
      "55 >>> Buzz\n",
      "56\n",
      "57 >>> Fizz\n",
      "58\n",
      "59\n",
      "60 >>> FizzBuzz\n",
      "61\n",
      "62\n",
      "63 >>> Fizz\n",
      "64\n",
      "65 >>> Buzz\n",
      "66 >>> Fizz\n",
      "67\n",
      "68\n",
      "69 >>> Fizz\n",
      "70 >>> Buzz\n",
      "71\n",
      "72 >>> Fizz\n",
      "73\n",
      "74\n",
      "75 >>> FizzBuzz\n",
      "76\n",
      "77\n",
      "78 >>> Fizz\n",
      "79\n",
      "80 >>> Buzz\n",
      "81 >>> Fizz\n",
      "82\n",
      "83\n",
      "84 >>> Fizz\n",
      "85 >>> Buzz\n",
      "86\n",
      "87 >>> Fizz\n",
      "88\n",
      "89\n",
      "90 >>> FizzBuzz\n",
      "91\n",
      "92\n",
      "93 >>> Fizz\n",
      "94\n",
      "95 >>> Buzz\n",
      "96 >>> Fizz\n",
      "97\n",
      "98\n",
      "99 >>> Fizz\n"
     ]
    }
   ],
   "source": [
    "for i in range(0,100):\n",
    "    if i % 3 ==0 and i % 5 ==0:\n",
    "        print(i,\"FizzBuzz\",sep=\" >>> \")\n",
    "    elif i % 3 ==0:\n",
    "        print(i,\"Fizz\",sep=\" >>> \")\n",
    "    elif i % 5 ==0:\n",
    "        print(i,\"Buzz\",sep=\" >>> \")\n",
    "    else:\n",
    "        print(i)"
   ]
  },
  {
   "cell_type": "markdown",
   "metadata": {
    "pycharm": {
     "name": "#%% md\n"
    }
   },
   "source": [
    "____\n",
    "**Use List Comprehension to create a list of the first letters of every word in the string below:**"
   ]
  },
  {
   "cell_type": "code",
   "execution_count": null,
   "metadata": {
    "pycharm": {
     "name": "#%%\n"
    }
   },
   "outputs": [],
   "source": []
  },
  {
   "cell_type": "code",
   "execution_count": 12,
   "metadata": {
    "pycharm": {
     "name": "#%%\n"
    }
   },
   "outputs": [
    {
     "name": "stdout",
     "output_type": "stream",
     "text": [
      "['C', 'a', 'l', 'o', 't', 'f', 'l', 'o', 'e', 'w', 'i', 't', 's']\n"
     ]
    }
   ],
   "source": [
    "st = 'Create a list of the first letters of every word in this string'\n",
    "newlist=[i[0] for i in st.split()  ]\n",
    "print(newlist)"
   ]
  },
  {
   "cell_type": "markdown",
   "metadata": {
    "pycharm": {
     "name": "#%% md\n"
    }
   },
   "source": [
    "### Great Job!"
   ]
  }
 ],
 "metadata": {
  "kernelspec": {
   "display_name": "Python 3",
   "language": "python",
   "name": "python3"
  },
  "language_info": {
   "codemirror_mode": {
    "name": "ipython",
    "version": 3
   },
   "file_extension": ".py",
   "mimetype": "text/x-python",
   "name": "python",
   "nbconvert_exporter": "python",
   "pygments_lexer": "ipython3",
   "version": "3.8.5"
  }
 },
 "nbformat": 4,
 "nbformat_minor": 1
}